{
 "cells": [
  {
   "cell_type": "code",
   "execution_count": 11,
   "metadata": {},
   "outputs": [],
   "source": [
    "import matplotlib\n",
    "import matplotlib.pyplot as plt\n",
    "from matplotlib.pyplot import *\n",
    "import numpy as np\n",
    "import itertools  \n",
    "from keras import backend as K\n",
    "from keras.layers.core import Dense, Dropout, Activation, Flatten\n",
    "from keras.layers.convolutional import Convolution2D, MaxPooling2D\n",
    "from keras.preprocessing.image import ImageDataGenerator\n",
    "from sklearn.metrics import classification_report, confusion_matrix\n"
   ]
  },
  {
   "cell_type": "code",
   "execution_count": 12,
   "metadata": {},
   "outputs": [
    {
     "name": "stdout",
     "output_type": "stream",
     "text": [
      "_________________________________________________________________\n",
      "Layer (type)                 Output Shape              Param #   \n",
      "=================================================================\n",
      "input_2 (InputLayer)         (None, 50, 50, 3)         0         \n",
      "_________________________________________________________________\n",
      "conv2d_17 (Conv2D)           (None, 50, 50, 64)        1792      \n",
      "_________________________________________________________________\n",
      "conv2d_18 (Conv2D)           (None, 50, 50, 64)        36928     \n",
      "_________________________________________________________________\n",
      "max_pooling2d_6 (MaxPooling2 (None, 25, 25, 64)        0         \n",
      "_________________________________________________________________\n",
      "conv2d_19 (Conv2D)           (None, 25, 25, 128)       73856     \n",
      "_________________________________________________________________\n",
      "conv2d_20 (Conv2D)           (None, 25, 25, 128)       147584    \n",
      "_________________________________________________________________\n",
      "max_pooling2d_7 (MaxPooling2 (None, 12, 12, 128)       0         \n",
      "_________________________________________________________________\n",
      "conv2d_21 (Conv2D)           (None, 12, 12, 256)       295168    \n",
      "_________________________________________________________________\n",
      "conv2d_22 (Conv2D)           (None, 12, 12, 256)       590080    \n",
      "_________________________________________________________________\n",
      "conv2d_23 (Conv2D)           (None, 12, 12, 256)       590080    \n",
      "_________________________________________________________________\n",
      "conv2d_24 (Conv2D)           (None, 12, 12, 256)       590080    \n",
      "_________________________________________________________________\n",
      "max_pooling2d_8 (MaxPooling2 (None, 6, 6, 256)         0         \n",
      "_________________________________________________________________\n",
      "conv2d_25 (Conv2D)           (None, 6, 6, 512)         1180160   \n",
      "_________________________________________________________________\n",
      "conv2d_26 (Conv2D)           (None, 6, 6, 512)         2359808   \n",
      "_________________________________________________________________\n",
      "conv2d_27 (Conv2D)           (None, 6, 6, 512)         2359808   \n",
      "_________________________________________________________________\n",
      "conv2d_28 (Conv2D)           (None, 6, 6, 512)         2359808   \n",
      "_________________________________________________________________\n",
      "max_pooling2d_9 (MaxPooling2 (None, 3, 3, 512)         0         \n",
      "_________________________________________________________________\n",
      "conv2d_29 (Conv2D)           (None, 3, 3, 512)         2359808   \n",
      "_________________________________________________________________\n",
      "conv2d_30 (Conv2D)           (None, 3, 3, 512)         2359808   \n",
      "_________________________________________________________________\n",
      "conv2d_31 (Conv2D)           (None, 3, 3, 512)         2359808   \n",
      "_________________________________________________________________\n",
      "conv2d_32 (Conv2D)           (None, 3, 3, 512)         2359808   \n",
      "_________________________________________________________________\n",
      "max_pooling2d_10 (MaxPooling (None, 1, 1, 512)         0         \n",
      "_________________________________________________________________\n",
      "global_average_pooling2d_2 ( (None, 512)               0         \n",
      "_________________________________________________________________\n",
      "dense_4 (Dense)              (None, 1096)              562248    \n",
      "_________________________________________________________________\n",
      "dense_5 (Dense)              (None, 512)               561664    \n",
      "_________________________________________________________________\n",
      "dense_6 (Dense)              (None, 3)                 1539      \n",
      "=================================================================\n",
      "Total params: 21,149,835\n",
      "Trainable params: 21,149,835\n",
      "Non-trainable params: 0\n",
      "_________________________________________________________________\n",
      "None\n"
     ]
    }
   ],
   "source": [
    "from keras import layers\n",
    "from keras.models import Model, Sequential\n",
    "\n",
    "from functools import partial\n",
    "\n",
    "conv3 = partial(layers.Conv2D,\n",
    "                kernel_size=3,\n",
    "                strides=1,\n",
    "                padding='same',\n",
    "                activation='relu')\n",
    "\n",
    "def block(in_tensor, filters, n_convs):\n",
    "    conv_block = in_tensor\n",
    "    for _ in range(n_convs):\n",
    "        conv_block = conv3(filters=filters)(conv_block)\n",
    "    return conv_block\n",
    "\n",
    "def _vgg(in_shape=(50,50,3),\n",
    "         n_classes=3,\n",
    "         opt='sgd',\n",
    "         n_stages_per_blocks=[2, 2, 3, 3, 3]):\n",
    "    in_layer = layers.Input(in_shape)\n",
    "\n",
    "    block1 = block(in_layer, 64, n_stages_per_blocks[0])\n",
    "    pool1 = layers.MaxPool2D()(block1)\n",
    "    block2 = block(pool1, 128, n_stages_per_blocks[1])\n",
    "    pool2 = layers.MaxPool2D()(block2)\n",
    "    block3 = block(pool2, 256, n_stages_per_blocks[2])\n",
    "    pool3 = layers.MaxPool2D()(block3)\n",
    "    block4 = block(pool3, 512, n_stages_per_blocks[3])\n",
    "    pool4 = layers.MaxPool2D()(block4)\n",
    "    block5 = block(pool4, 512, n_stages_per_blocks[4])\n",
    "    pool5 = layers.MaxPool2D()(block5)\n",
    "    flattened = layers.GlobalAvgPool2D()(pool5)\n",
    "\n",
    "    dense1 = layers.Dense(1096, activation='relu')(flattened)\n",
    "    dense2 = layers.Dense(512, activation='relu')(dense1)\n",
    "    preds = layers.Dense(3, activation='softmax')(dense2)\n",
    "\n",
    "    model = Model(in_layer, preds)\n",
    "    model.compile(loss=\"categorical_crossentropy\", optimizer=opt,\n",
    "\t              metrics=[\"accuracy\"])\n",
    "    return model\n",
    "\n",
    "def vgg16(in_shape=(50,50,3), n_classes=3, opt='sgd'):\n",
    "    return _vgg(in_shape, n_classes, opt)\n",
    "\n",
    "def vgg19(in_shape=(50,50,3), n_classes=3, opt='sgd'):\n",
    "    return _vgg(in_shape, n_classes, opt, [2, 2, 4, 4, 4])\n",
    "\n",
    "if __name__ == '__main__':\n",
    "    model = vgg19()\n",
    "    print(model.summary())"
   ]
  },
  {
   "cell_type": "code",
   "execution_count": 13,
   "metadata": {},
   "outputs": [],
   "source": [
    "from keras import optimizers\n",
    "model.compile(optimizer=optimizers.SGD(lr=0.001, momentum=0.9, decay=0.005),\n",
    "              loss='categorical_crossentropy',\n",
    "              metrics=['accuracy'])"
   ]
  },
  {
   "cell_type": "code",
   "execution_count": 14,
   "metadata": {},
   "outputs": [
    {
     "name": "stdout",
     "output_type": "stream",
     "text": [
      "Found 450 images belonging to 3 classes.\n",
      "Found 300 images belonging to 3 classes.\n"
     ]
    }
   ],
   "source": [
    "# image preprocessing\n",
    "from keras.preprocessing.image import ImageDataGenerator\n",
    "\n",
    "train_datagen = ImageDataGenerator(rescale=1./255,\n",
    "                                   shear_range=0.2,\n",
    "                                   zoom_range=0.2,\n",
    "                                   width_shift_range=0.2,\n",
    "                                   height_shift_range=0.2,\n",
    "                                   fill_mode='nearest')\n",
    "\n",
    "valid_datagen = ImageDataGenerator(rescale=1./255)\n",
    "\n",
    "batch_size = 33\n",
    "\n",
    "training_set = train_datagen.flow_from_directory('rice3/train/',\n",
    "                                                 target_size=(50,50),\n",
    "                                                 batch_size=batch_size,\n",
    "                                                 class_mode='categorical')\n",
    "\n",
    "valid_set = valid_datagen.flow_from_directory('rice3/valid/',\n",
    "                                            target_size=(50,50),\n",
    "                                            batch_size=batch_size,\n",
    "                                            class_mode='categorical')"
   ]
  },
  {
   "cell_type": "code",
   "execution_count": 15,
   "metadata": {},
   "outputs": [
    {
     "name": "stdout",
     "output_type": "stream",
     "text": [
      "{'BrownSpot': 0, 'Healthy': 1, 'Leaf Blight': 2}\n",
      "['BrownSpot', 'Healthy', 'Leaf Blight']\n"
     ]
    }
   ],
   "source": [
    "class_dict = training_set.class_indices\n",
    "print(class_dict)\n",
    "li = list(class_dict.keys())\n",
    "print(li)"
   ]
  },
  {
   "cell_type": "code",
   "execution_count": 5,
   "metadata": {},
   "outputs": [
    {
     "name": "stdout",
     "output_type": "stream",
     "text": [
      "WARNING:tensorflow:From C:\\anaconda_installation\\lib\\site-packages\\tensorflow\\python\\ops\\math_ops.py:3066: to_int32 (from tensorflow.python.ops.math_ops) is deprecated and will be removed in a future version.\n",
      "Instructions for updating:\n",
      "Use tf.cast instead.\n",
      "Epoch 1/40\n",
      "14/13 [==============================] - 72s 5s/step - loss: 1.0986 - acc: 0.3170 - val_loss: 1.0985 - val_acc: 0.3333\n",
      "Epoch 2/40\n",
      "14/13 [==============================] - 66s 5s/step - loss: 1.0985 - acc: 0.3226 - val_loss: 1.0984 - val_acc: 0.3333\n",
      "Epoch 3/40\n",
      "14/13 [==============================] - 64s 5s/step - loss: 1.0984 - acc: 0.3333 - val_loss: 1.0983 - val_acc: 0.3333\n",
      "Epoch 4/40\n",
      "14/13 [==============================] - 64s 5s/step - loss: 1.0983 - acc: 0.3322 - val_loss: 1.0982 - val_acc: 0.3333\n",
      "Epoch 5/40\n",
      "14/13 [==============================] - 57s 4s/step - loss: 1.0983 - acc: 0.3182 - val_loss: 1.0981 - val_acc: 0.3333\n",
      "Epoch 6/40\n",
      "14/13 [==============================] - 53s 4s/step - loss: 1.0983 - acc: 0.3549 - val_loss: 1.0981 - val_acc: 0.3333\n",
      "Epoch 7/40\n",
      "14/13 [==============================] - 52s 4s/step - loss: 1.0982 - acc: 0.3845 - val_loss: 1.0980 - val_acc: 0.4567\n",
      "Epoch 8/40\n",
      "14/13 [==============================] - 53s 4s/step - loss: 1.0981 - acc: 0.5441 - val_loss: 1.0979 - val_acc: 0.6333\n",
      "Epoch 9/40\n",
      "14/13 [==============================] - 54s 4s/step - loss: 1.0979 - acc: 0.6742 - val_loss: 1.0979 - val_acc: 0.6600\n",
      "Epoch 10/40\n",
      "14/13 [==============================] - 53s 4s/step - loss: 1.0979 - acc: 0.5970 - val_loss: 1.0978 - val_acc: 0.6000\n",
      "Epoch 11/40\n",
      "14/13 [==============================] - 53s 4s/step - loss: 1.0979 - acc: 0.4831 - val_loss: 1.0978 - val_acc: 0.4967\n",
      "Epoch 12/40\n",
      "14/13 [==============================] - 53s 4s/step - loss: 1.0978 - acc: 0.5212 - val_loss: 1.0977 - val_acc: 0.6000\n",
      "Epoch 13/40\n",
      "14/13 [==============================] - 53s 4s/step - loss: 1.0977 - acc: 0.6631 - val_loss: 1.0977 - val_acc: 0.6833\n",
      "Epoch 14/40\n",
      "14/13 [==============================] - 52s 4s/step - loss: 1.0977 - acc: 0.6503 - val_loss: 1.0976 - val_acc: 0.5633\n",
      "Epoch 15/40\n",
      "14/13 [==============================] - 53s 4s/step - loss: 1.0976 - acc: 0.5132 - val_loss: 1.0976 - val_acc: 0.3600\n",
      "Epoch 16/40\n",
      "14/13 [==============================] - 54s 4s/step - loss: 1.0976 - acc: 0.5507 - val_loss: 1.0975 - val_acc: 0.7333\n",
      "Epoch 17/40\n",
      "14/13 [==============================] - 54s 4s/step - loss: 1.0975 - acc: 0.5265 - val_loss: 1.0975 - val_acc: 0.4100\n",
      "Epoch 18/40\n",
      "14/13 [==============================] - 53s 4s/step - loss: 1.0975 - acc: 0.4920 - val_loss: 1.0974 - val_acc: 0.7100\n",
      "Epoch 19/40\n",
      "14/13 [==============================] - 53s 4s/step - loss: 1.0974 - acc: 0.5841 - val_loss: 1.0974 - val_acc: 0.5633\n",
      "Epoch 20/40\n",
      "14/13 [==============================] - 52s 4s/step - loss: 1.0973 - acc: 0.6047 - val_loss: 1.0973 - val_acc: 0.5467\n",
      "Epoch 21/40\n",
      "14/13 [==============================] - 53s 4s/step - loss: 1.0973 - acc: 0.4245 - val_loss: 1.0973 - val_acc: 0.3933\n",
      "Epoch 22/40\n",
      "14/13 [==============================] - 54s 4s/step - loss: 1.0973 - acc: 0.5212 - val_loss: 1.0972 - val_acc: 0.5433\n",
      "Epoch 23/40\n",
      "14/13 [==============================] - 58s 4s/step - loss: 1.0972 - acc: 0.5698 - val_loss: 1.0972 - val_acc: 0.4533\n",
      "Epoch 24/40\n",
      "14/13 [==============================] - 54s 4s/step - loss: 1.0972 - acc: 0.5321 - val_loss: 1.0971 - val_acc: 0.5967\n",
      "Epoch 25/40\n",
      "14/13 [==============================] - 54s 4s/step - loss: 1.0971 - acc: 0.4069 - val_loss: 1.0970 - val_acc: 0.3667\n",
      "Epoch 26/40\n",
      "14/13 [==============================] - 53s 4s/step - loss: 1.0971 - acc: 0.6463 - val_loss: 1.0970 - val_acc: 0.8467\n",
      "Epoch 27/40\n",
      "14/13 [==============================] - 40s 3s/step - loss: 1.0970 - acc: 0.7813 - val_loss: 1.0970 - val_acc: 0.8133\n",
      "Epoch 28/40\n",
      "14/13 [==============================] - 38s 3s/step - loss: 1.0970 - acc: 0.4991 - val_loss: 1.0969 - val_acc: 0.3667\n",
      "Epoch 29/40\n",
      "14/13 [==============================] - 39s 3s/step - loss: 1.0969 - acc: 0.4965 - val_loss: 1.0969 - val_acc: 0.5600\n",
      "Epoch 30/40\n",
      "14/13 [==============================] - 39s 3s/step - loss: 1.0968 - acc: 0.5775 - val_loss: 1.0968 - val_acc: 0.6033\n",
      "Epoch 31/40\n",
      "14/13 [==============================] - 42s 3s/step - loss: 1.0968 - acc: 0.6110 - val_loss: 1.0968 - val_acc: 0.6100\n",
      "Epoch 32/40\n",
      "14/13 [==============================] - 41s 3s/step - loss: 1.0967 - acc: 0.6365 - val_loss: 1.0967 - val_acc: 0.7800\n",
      "Epoch 33/40\n",
      "14/13 [==============================] - 39s 3s/step - loss: 1.0967 - acc: 0.7329 - val_loss: 1.0967 - val_acc: 0.8133\n",
      "Epoch 34/40\n",
      "14/13 [==============================] - 40s 3s/step - loss: 1.0966 - acc: 0.7112 - val_loss: 1.0966 - val_acc: 0.6733\n",
      "Epoch 35/40\n",
      "14/13 [==============================] - 41s 3s/step - loss: 1.0966 - acc: 0.6560 - val_loss: 1.0966 - val_acc: 0.6333\n",
      "Epoch 36/40\n",
      "14/13 [==============================] - 40s 3s/step - loss: 1.0966 - acc: 0.6123 - val_loss: 1.0965 - val_acc: 0.6067\n",
      "Epoch 37/40\n",
      "14/13 [==============================] - 40s 3s/step - loss: 1.0965 - acc: 0.6787 - val_loss: 1.0964 - val_acc: 0.7867\n",
      "Epoch 38/40\n",
      "14/13 [==============================] - 39s 3s/step - loss: 1.0964 - acc: 0.6298 - val_loss: 1.0964 - val_acc: 0.5733\n",
      "Epoch 39/40\n",
      "14/13 [==============================] - 39s 3s/step - loss: 1.0964 - acc: 0.5885 - val_loss: 1.0963 - val_acc: 0.6100\n",
      "Epoch 40/40\n",
      "14/13 [==============================] - 39s 3s/step - loss: 1.0963 - acc: 0.6058 - val_loss: 1.0963 - val_acc: 0.6100\n"
     ]
    }
   ],
   "source": [
    "history = model.fit_generator(training_set,\n",
    "                         steps_per_epoch=450/33,\n",
    "                         validation_data=valid_set,\n",
    "                         epochs=40,\n",
    "                         verbose=1,\n",
    "                         validation_steps=300/33)\n",
    "#saving model\n",
    "filepath=\"vggnetModel.hdf5\"\n",
    "model.save(filepath)"
   ]
  },
  {
   "cell_type": "code",
   "execution_count": 8,
   "metadata": {},
   "outputs": [
    {
     "data": {
      "image/png": "[encoded data removed]",
      "text/plain": [
       "<Figure size 432x288 with 2 Axes>"
      ]
     },
     "metadata": {
      "needs_background": "light"
     },
     "output_type": "display_data"
    }
   ],
   "source": [
    "import matplotlib.pyplot as plt\n",
    "%matplotlib inline\n",
    "# Plot the loss and accuracy curves for training and validation \n",
    "fig, ax = plt.subplots(2,1)\n",
    "ax[0].plot(history.history['loss'], color='y', label=\"Loss value of training\")\n",
    "ax[0].plot(history.history['val_loss'], color='g', label=\"Loss value of validation\",axes =ax[0])\n",
    "legend = ax[0].legend(loc='best', shadow=True)\n",
    "\n",
    "ax[1].plot(history.history['acc'], color='y', label=\"Accuracy of training\")\n",
    "ax[1].plot(history.history['val_acc'], color='g',label=\"Accuracy of validation\")\n",
    "legend = ax[1].legend(loc='best', shadow=True) "
   ]
  },
  {
   "cell_type": "code",
   "execution_count": null,
   "metadata": {},
   "outputs": [],
   "source": []
  },
  {
   "cell_type": "code",
   "execution_count": 19,
   "metadata": {},
   "outputs": [
    {
     "name": "stdout",
     "output_type": "stream",
     "text": [
      "Confusion Matrix\n",
      "[[  0   0 100]\n",
      " [  0   0 100]\n",
      " [  0   0 100]]\n",
      "Classification Report\n",
      "              precision    recall  f1-score   support\n",
      "\n",
      "   BrownSpot       0.00      0.00      0.00       100\n",
      "     Healthy       0.00      0.00      0.00       100\n",
      " Leaf Blight       0.33      1.00      0.50       100\n",
      "\n",
      "   micro avg       0.33      0.33      0.33       300\n",
      "   macro avg       0.11      0.33      0.17       300\n",
      "weighted avg       0.11      0.33      0.17       300\n",
      "\n"
     ]
    }
   ],
   "source": [
    "\n",
    "Y_pred = model.predict_generator(valid_set,300/33)\n",
    "y_pred = np.argmax(Y_pred, axis=1)\n",
    "print('Confusion Matrix')\n",
    "print(confusion_matrix(valid_set.classes, y_pred))\n",
    "print('Classification Report')\n",
    "target_names = ['BrownSpot','Healthy','Leaf Blight']\n",
    "print(classification_report(valid_set.classes, y_pred, target_names=target_names))\n"
   ]
  },
  {
   "cell_type": "code",
   "execution_count": 20,
   "metadata": {},
   "outputs": [
    {
     "data": {
      "image/png": "[encoded data removed]",
      "text/plain": [
       "<Figure size 576x432 with 2 Axes>"
      ]
     },
     "metadata": {
      "needs_background": "light"
     },
     "output_type": "display_data"
    }
   ],
   "source": [
    "\n",
    "\n",
    "\n",
    "def plot_confusion_matrix(cm,\n",
    "                          target_names,\n",
    "                          title='Confusion matrix',\n",
    "                          cmap=None,\n",
    "                          normalize=False):\n",
    "  \n",
    "   \n",
    "\n",
    "    accuracy = np.trace(cm) / float(np.sum(cm))\n",
    "    misclass = 1 - accuracy\n",
    "\n",
    "    if cmap is None:\n",
    "        cmap = plt.get_cmap('Blues')\n",
    "\n",
    "    plt.figure(figsize=(8, 6))\n",
    "    plt.imshow(cm, interpolation='nearest', cmap=cmap)\n",
    "    plt.title(title)\n",
    "    plt.colorbar()\n",
    "\n",
    "    if target_names is not None:\n",
    "        tick_marks = np.arange(len(target_names))\n",
    "        plt.xticks(tick_marks, target_names, rotation=45)\n",
    "        plt.yticks(tick_marks, target_names)\n",
    "\n",
    "    if normalize:\n",
    "        cm = cm.astype('float') / cm.sum(axis=1)[:, np.newaxis]\n",
    "\n",
    "\n",
    "    thresh = cm.max() / 1.5 if normalize else cm.max() / 2\n",
    "    for i, j in itertools.product(range(cm.shape[0]), range(cm.shape[1])):\n",
    "        if normalize:\n",
    "            plt.text(j, i, \"{:0.4f}\".format(cm[i, j]),\n",
    "                     horizontalalignment=\"center\",\n",
    "                     color=\"white\" if cm[i, j] > thresh else \"black\")\n",
    "        else:\n",
    "            plt.text(j, i, \"{:,}\".format(cm[i, j]),\n",
    "                     horizontalalignment=\"center\",\n",
    "                     color=\"white\" if cm[i, j] > thresh else \"black\")\n",
    "\n",
    "\n",
    "    plt.tight_layout()\n",
    "    plt.ylabel('True label')\n",
    "    plt.xlabel('Predicted label\\naccuracy={:0.4f}; misclass={:0.4f}'.format(accuracy, misclass))\n",
    "    plt.show()\n",
    "    \n",
    "plot_confusion_matrix(confusion_matrix(valid_set.classes, y_pred), target_names = ['BrownSpot','Healthy','Leaf Blight'],cmap='BuGn') \n"
   ]
  },
  {
   "cell_type": "code",
   "execution_count": null,
   "metadata": {},
   "outputs": [],
   "source": []
  }
 ],
 "metadata": {
  "kernelspec": {
   "display_name": "Python 3",
   "language": "python",
   "name": "python3"
  },
  "language_info": {
   "codemirror_mode": {
    "name": "ipython",
    "version": 3
   },
   "file_extension": ".py",
   "mimetype": "text/x-python",
   "name": "python",
   "nbconvert_exporter": "python",
   "pygments_lexer": "ipython3",
   "version": "3.6.8"
  }
 },
 "nbformat": 4,
 "nbformat_minor": 2
}
